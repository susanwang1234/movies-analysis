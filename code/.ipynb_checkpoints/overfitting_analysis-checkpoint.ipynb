{
 "cells": [
  {
   "cell_type": "markdown",
   "metadata": {},
   "source": [
    "# Measuring training and validation data against max_depths in GradientBoostingRegressor"
   ]
  },
  {
   "cell_type": "code",
   "execution_count": 2,
   "metadata": {},
   "outputs": [
    {
     "data": {
      "text/plain": [
       "<matplotlib.legend.Legend at 0xd549450>"
      ]
     },
     "execution_count": 2,
     "metadata": {},
     "output_type": "execute_result"
    },
    {
     "data": {
      "image/png": "[encoded data removed]",
      "text/plain": [
       "<Figure size 432x288 with 1 Axes>"
      ]
     },
     "metadata": {
      "needs_background": "light"
     },
     "output_type": "display_data"
    }
   ],
   "source": [
    "#Jia Yi (Susan) Wang\n",
    "import pandas as pd\n",
    "import numpy as np\n",
    "import matplotlib.pyplot as plt\n",
    "from scipy import stats\n",
    "import re\n",
    "#import seaborn\n",
    "#seaborn.set()\n",
    "\n",
    "from sklearn.model_selection import train_test_split\n",
    "#from sklearn.pipeline import make_pipeline\n",
    "from sklearn.pipeline import Pipeline\n",
    "#from sklearn.preprocessing import StandardScaler\n",
    "from sklearn.preprocessing import FunctionTransformer\n",
    "\n",
    "\"\"\"\"from sklearn.naive_bayes import GaussianNB\n",
    "from sklearn.neighbors import KNeighborsClassifier\n",
    "from sklearn.svm import SVC\"\"\"\n",
    "\n",
    "\"\"\"from sklearn.tree import DecisionTreeClassifier\n",
    "from sklearn.ensemble import RandomForestClassifier\n",
    "from sklearn.ensemble import GradientBoostingClassifier\"\"\"\n",
    "\n",
    "#from sklearn.cluster import KMeans\n",
    "from sklearn.preprocessing import OneHotEncoder\n",
    "from sklearn.compose import ColumnTransformer\n",
    "\"\"\"\"from sklearn.neighbors import KNeighborsRegressor\n",
    "from sklearn.svm import SVR\n",
    "from sklearn.neural_network import MLPRegressor\"\"\"\n",
    "from sklearn.linear_model import LinearRegression\n",
    "\n",
    "#from sklearn.ensemble import RandomForestRegressor\n",
    "from sklearn.ensemble import GradientBoostingRegressor\n",
    "from sklearn.decomposition import TruncatedSVD #PCA for sparse values\n",
    "from sklearn.ensemble import GradientBoostingClassifier\n",
    "\n",
    "genres = pd.read_json('../data/genres.json.gz', orient='record', lines=True, encoding='utf-8')\n",
    "omdb_data = pd.read_json('../data/omdb-data.json.gz', orient='record', lines=True, encoding='utf-8')\n",
    "rt_data = pd.read_json('../data/rotten-tomatoes.json.gz', orient='record', lines=True, encoding='utf-8')\n",
    "wd_data = pd.read_json('../data/wikidata-movies.json.gz', orient='record', lines=True, encoding='utf-8')\n",
    "\n",
    "omdb_data=omdb_data.explode('omdb_genres')\n",
    "omdb_data=omdb_data[omdb_data.omdb_awards.notnull()]\n",
    "omdb_data=omdb_data[omdb_data.omdb_awards!='N\\A']\n",
    "\n",
    "nominations_re = re.compile(r'Nominated for (\\d+)')\n",
    "nominations_re2 = re.compile(r'(\\d+) nomination(s?)')\n",
    "wins_re = re.compile(r'(\\d+) win(s?)')\n",
    "wins_re2 = re.compile(r'Won (\\d+)')\n",
    "\n",
    "def get_wins(txt):\n",
    "    wins = 0\n",
    "    wins1 = wins_re.search(txt)\n",
    "    wins2 = wins_re2.search(txt)\n",
    "    if wins1:\n",
    "        wins = wins + int(wins1.group(1))\n",
    "    if wins2:\n",
    "        wins = wins + int(wins2.group(1))\n",
    "    return wins\n",
    "\n",
    "def get_nominations(txt):\n",
    "    noms = 0\n",
    "    nominations1 = nominations_re.search(txt)\n",
    "    nominations2 = nominations_re2.search(txt)\n",
    "    if nominations1:\n",
    "        noms = noms + int(nominations1.group(1))\n",
    "    if nominations2:\n",
    "        noms = noms + int(nominations2.group(1))\n",
    "    return noms\n",
    "\n",
    "omdb_data['nominations'] = omdb_data['omdb_awards'].apply(get_nominations)\n",
    "omdb_data['wins'] = omdb_data['omdb_awards'].apply(get_wins)\n",
    "\n",
    "wd_data = wd_data.explode('cast_member')\n",
    "movies_played=wd_data[['cast_member','wikidata_id']].groupby('cast_member').count().reset_index().rename(columns={'wikidata_id':'movies_in'})\n",
    "wd_data_stars = movies_played[movies_played.movies_in>=10]\n",
    "wd_data_stars = wd_data_stars.set_index('cast_member').join(wd_data.set_index('cast_member'),on='cast_member').reset_index()\n",
    "joined = omdb_data.set_index('imdb_id').join(rt_data.set_index('imdb_id'),on='imdb_id')\n",
    "joined = joined.join(wd_data_stars.set_index('imdb_id'), lsuffix='_joined', rsuffix='_wd', on='imdb_id')\n",
    "\n",
    "info = joined.reset_index()\n",
    "info = info[['audience_average', 'omdb_genres', 'cast_member', 'wins', 'nominations', 'country_of_origin']]\n",
    "info = info[info.audience_average.notnull()]\n",
    "info = info[info.cast_member.notnull()]\n",
    "info = info[info.omdb_genres.notnull()]\n",
    "info = info[info.omdb_genres != 'N/A']\n",
    "info = info[info.country_of_origin.notnull()]\n",
    "info = info[info.country_of_origin != 'N/A']\n",
    "\n",
    "ct = ColumnTransformer(\n",
    "    transformers=[\n",
    "        ('one_hot_encoder', OneHotEncoder(handle_unknown='ignore'), [0,1,4])\n",
    "    ],\n",
    "    remainder='passthrough' \n",
    ")\n",
    "\n",
    "max_depths = list(range(5,9))\n",
    "train_arr = []\n",
    "valid_arr = []\n",
    "\n",
    "for d in max_depths:\n",
    "    model = Pipeline(\n",
    "            #steps=[('col_trans',ct), ('lr', LinearRegression(fit_intercept=False))]\n",
    "            steps=[\n",
    "                ('col_trans',ct), \n",
    "                ('pca', TruncatedSVD(2)), \n",
    "                ('gfr', GradientBoostingRegressor(max_depth=d, n_estimators=100, min_samples_leaf=10))\n",
    "            ]\n",
    "        )\n",
    "\n",
    "    X=info.drop(columns=['audience_average'],axis=1)\n",
    "    y=info['audience_average']\n",
    "\n",
    "    X_train, X_valid, y_train, y_valid = train_test_split(X,y)\n",
    "\n",
    "    model.fit(X_train, y_train)\n",
    "\n",
    "    train_arr.append(model.score(X_train,y_train))\n",
    "    valid_arr.append(model.score(X_valid,y_valid))\n",
    "\n",
    "plt.figure(1)\n",
    "plt.plot(max_depths, train_arr, 'g-')\n",
    "plt.plot(max_depths, valid_arr, 'r-')\n",
    "plt.title('Training and validation score over different GradientBoostingRegressor max_depths')\n",
    "plt.xlabel('max_depth')\n",
    "plt.ylabel('model.score')\n",
    "plt.legend(['Training','Validation'])\n"
   ]
  },
  {
   "cell_type": "code",
   "execution_count": null,
   "metadata": {},
   "outputs": [],
   "source": []
  }
 ],
 "metadata": {
  "kernelspec": {
   "display_name": "Python 3",
   "language": "python",
   "name": "python3"
  },
  "language_info": {
   "codemirror_mode": {
    "name": "ipython",
    "version": 3
   },
   "file_extension": ".py",
   "mimetype": "text/x-python",
   "name": "python",
   "nbconvert_exporter": "python",
   "pygments_lexer": "ipython3",
   "version": "3.7.2"
  }
 },
 "nbformat": 4,
 "nbformat_minor": 2
}
