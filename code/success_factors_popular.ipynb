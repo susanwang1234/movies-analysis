{
 "cells": [
  {
   "cell_type": "code",
   "execution_count": 1,
   "metadata": {},
   "outputs": [],
   "source": [
    "import numpy as np\n",
    "import pandas as pd\n",
    "from scipy import stats\n",
    "import matplotlib.pyplot as plt\n",
    "import matplotlib.mlab as mlab\n",
    "import re"
   ]
  },
  {
   "cell_type": "code",
   "execution_count": 2,
   "metadata": {},
   "outputs": [],
   "source": [
    "# data paths\n",
    "wikidata_path = '../data/wikidata-movies.json.gz'\n",
    "rotten_path = '../data/rotten-tomatoes.json.gz'\n",
    "omdb_path = '../data/omdb-data.json.gz'"
   ]
  },
  {
   "cell_type": "code",
   "execution_count": 3,
   "metadata": {},
   "outputs": [],
   "source": [
    "# retrieve data\n",
    "wikidata_data = pd.read_json(wikidata_path, orient='record', lines=True)\n",
    "rotten_data = pd.read_json(rotten_path, orient='record', lines=True)\n",
    "omdb_data = pd.read_json(omdb_path, orient='record', lines=True)"
   ]
  },
  {
   "cell_type": "code",
   "execution_count": null,
   "metadata": {},
   "outputs": [],
   "source": []
  },
  {
   "cell_type": "code",
   "execution_count": 4,
   "metadata": {},
   "outputs": [],
   "source": [
    "# merge data\n",
    "data = pd.merge(wikidata_data, rotten_data, on='imdb_id', how='left')\n",
    "data = pd.merge(data, omdb_data, on='imdb_id', how='left')"
   ]
  },
  {
   "cell_type": "code",
   "execution_count": null,
   "metadata": {},
   "outputs": [],
   "source": []
  },
  {
   "cell_type": "code",
   "execution_count": null,
   "metadata": {},
   "outputs": [],
   "source": []
  },
  {
   "cell_type": "code",
   "execution_count": 5,
   "metadata": {},
   "outputs": [],
   "source": [
    "# Popular actors: Morgan Freeman, Leonardo DiCaprio, Brad Pitt, Michael Caine, Robert Di Niro, Natalie Portman, Anne Hathaway, Talia Shire, Diane Keaton, Keira Knightley. \n",
    "def is_popular_actor(actor_list):\n",
    "    popular_actors = ['Q48337', 'Q37876', 'Q38111', 'Q35332', 'Q123351', 'Q36949', 'Q36301', 'Q108622', 'Q102642', 'Q42581']\n",
    "    result = any(elem in actor_list for elem in popular_actors)\n",
    "    return result\n",
    "\n",
    "# Popular directors: Ertem Egilmez, Akira Kurosawa, Alfred Hitchcock, Ingmar Bergman, Steven Spielberg, Billy Wilder, Christopher Nolan, Stanley Kubrick, Martin Scorcese, William Wyler, Yasujuro Ozu, Charles Chaplin, Quentin Tarantino, Hayao Mayazaki, Frances Ford Coppola, Mani Ratnam, Peter Jackson, Sergio Leone, Luis Bunuel, David Fincher.\n",
    "def is_popular_director(director_list):\n",
    "    popular_directors = ['Q3057501', 'Q8006', 'Q7374', 'Q7546', 'Q8877', 'Q51547', 'Q25191', 'Q2001', 'Q41148', 'Q51495', 'Q55402', 'Q882', 'Q3772', 'Q55400', 'Q56094', 'Q174648', 'Q4465', 'Q164562', 'Q51545', 'Q184903']\n",
    "    result = any(elem in director_list for elem in popular_directors)\n",
    "    return result"
   ]
  },
  {
   "cell_type": "code",
   "execution_count": 6,
   "metadata": {},
   "outputs": [],
   "source": [
    "# Calculates how many Oscars won\n",
    "def won_oscar(awards):\n",
    "    match = re.search('Won \\d Oscar', awards)\n",
    "    wins = 0\n",
    "    if match:\n",
    "        oscar_wins = match.group(0)\n",
    "        wins = re.findall('\\d+', oscar_wins)\n",
    "        wins = wins[0]\n",
    "    wins = float(wins)\n",
    "    return wins\n",
    "\n",
    "# Calculates how many Oscars nominated\n",
    "def nominated_for_oscar(awards):\n",
    "    match = re.search('Nominated for \\d Oscar', awards)\n",
    "    nominations = 0\n",
    "    if match:\n",
    "        oscar_nominations = match.group(0)\n",
    "        nominations = re.findall('\\d+', oscar_nominations)\n",
    "        nominations = nominations[0]\n",
    "    nominations = float(nominations)\n",
    "    return nominations"
   ]
  },
  {
   "cell_type": "code",
   "execution_count": 7,
   "metadata": {},
   "outputs": [],
   "source": [
    "# QUESTION: Does popularity of actors/actresses in movie relate to movie's success?\n",
    "# Get required data for question, drop any fields that are missing: \n",
    "pop_data = data[['imdb_id', 'cast_member', 'omdb_awards', 'audience_average', 'critic_average', 'made_profit']]\n",
    "# Remove any values that don't exist from these columns, except awards (could be none!)\n",
    "pop_data = pop_data.dropna(subset=['imdb_id', 'cast_member', 'audience_average', 'critic_average', 'made_profit'])\n",
    "# Set index\n",
    "pop_data = pop_data.set_index('imdb_id')"
   ]
  },
  {
   "cell_type": "code",
   "execution_count": 8,
   "metadata": {},
   "outputs": [],
   "source": [
    "pop_data['has_popular_actor'] = pop_data['cast_member'].apply(lambda x: is_popular_actor(x))"
   ]
  },
  {
   "cell_type": "code",
   "execution_count": 9,
   "metadata": {},
   "outputs": [],
   "source": [
    "# Add columns for Oscar wins and Oscar nominations\n",
    "pop_data['oscar_wins'] = pop_data['omdb_awards'].apply(lambda x: won_oscar(x))\n",
    "pop_data['oscar_nominations'] = pop_data['omdb_awards'].apply(lambda x: nominated_for_oscar(x))"
   ]
  },
  {
   "cell_type": "code",
   "execution_count": 10,
   "metadata": {},
   "outputs": [],
   "source": [
    "has_pop_actor = pop_data.loc[pop_data['has_popular_actor'] == True]\n",
    "no_pop_actor = pop_data.loc[pop_data['has_popular_actor'] == False]"
   ]
  },
  {
   "cell_type": "code",
   "execution_count": 11,
   "metadata": {},
   "outputs": [
    {
     "name": "stdout",
     "output_type": "stream",
     "text": [
      "Has top actor, audience mean:  3.6121621621621625\n",
      "Has no top actor, audience mean:  3.4881383855024715\n",
      "T-test on the audience data:  0.03600328042056285\n"
     ]
    }
   ],
   "source": [
    "# Audience Ratings\n",
    "has_pop_actor_audience = has_pop_actor['audience_average']\n",
    "no_pop_actor_audience = no_pop_actor['audience_average']\n",
    "# Take a look at the means...\n",
    "print(\"Has top actor, audience mean: \", has_pop_actor_audience.mean())\n",
    "print(\"Has no top actor, audience mean: \", no_pop_actor_audience.mean())\n",
    "# Testing with a ttest...\n",
    "ttest_p_audience = stats.ttest_ind(has_pop_actor_audience, no_pop_actor_audience).pvalue\n",
    "print(\"T-test on the audience data: \", ttest_p_audience)"
   ]
  },
  {
   "cell_type": "code",
   "execution_count": 12,
   "metadata": {},
   "outputs": [
    {
     "name": "stdout",
     "output_type": "stream",
     "text": [
      "Has top actor, critic mean:  6.678378378378378\n",
      "Has no top actor, critic mean:  6.3189456342668855\n",
      "T-test on the critic data:  0.05511131427533335\n"
     ]
    }
   ],
   "source": [
    "# Critic Ratings\n",
    "has_pop_actor_critic = has_pop_actor['critic_average']\n",
    "no_pop_actor_critic = no_pop_actor['critic_average']\n",
    "# Take a look at the means...\n",
    "print(\"Has top actor, critic mean: \", has_pop_actor_critic.mean())\n",
    "print(\"Has no top actor, critic mean: \", no_pop_actor_critic.mean())\n",
    "# Testing with a ttest...\n",
    "ttest_p_critic = stats.ttest_ind(has_pop_actor_critic, no_pop_actor_critic).pvalue\n",
    "print(\"T-test on the critic data: \", ttest_p_critic)"
   ]
  },
  {
   "cell_type": "code",
   "execution_count": 13,
   "metadata": {
    "scrolled": true
   },
   "outputs": [
    {
     "name": "stdout",
     "output_type": "stream",
     "text": [
      "Percent of movies featuring most popular actors that made a profit: 0.8513513513513513\n",
      "Percent of movies not featuring any of the popular actors that made a profit: 0.8434925864909391\n"
     ]
    }
   ],
   "source": [
    "# Made Profit\n",
    "# Look at the percentage of movies that made a profit\n",
    "has_pop_actor_made_profit = has_pop_actor[has_pop_actor.made_profit == True].shape[0]\n",
    "has_pop_actor_total = has_pop_actor.shape[0]\n",
    "no_pop_actor_made_profit = no_pop_actor[no_pop_actor.made_profit == True].shape[0]\n",
    "no_pop_actor_total = no_pop_actor.shape[0]\n",
    "\n",
    "print(\"Percent of movies featuring most popular actors that made a profit:\", has_pop_actor_made_profit/has_pop_actor_total)\n",
    "print(\"Percent of movies not featuring any of the popular actors that made a profit:\", no_pop_actor_made_profit/no_pop_actor_total)"
   ]
  },
  {
   "cell_type": "code",
   "execution_count": 14,
   "metadata": {},
   "outputs": [
    {
     "name": "stdout",
     "output_type": "stream",
     "text": [
      "Has top actor, 'oscars won' mean:  0.6351351351351351\n",
      "Has no top actor, 'oscars won'  mean:  0.385502471169687\n",
      "T-test on the 'oscars won' data:  0.09144818889942259\n"
     ]
    }
   ],
   "source": [
    "# Won Oscars \n",
    "has_pop_actor_won_oscar = has_pop_actor['oscar_wins']\n",
    "no_pop_actor_won_oscar = no_pop_actor['oscar_wins']\n",
    "\n",
    "#Take a look at the means...\n",
    "print(\"Has top actor, 'oscars won' mean: \", has_pop_actor_won_oscar.mean())\n",
    "print(\"Has no top actor, 'oscars won'  mean: \", no_pop_actor_won_oscar.mean())\n",
    "# Testing with a ttest...\n",
    "ttest_p_won_oscar = stats.ttest_ind(has_pop_actor_won_oscar, no_pop_actor_won_oscar).pvalue\n",
    "print(\"T-test on the 'oscars won' data: \", ttest_p_won_oscar)"
   ]
  },
  {
   "cell_type": "code",
   "execution_count": 15,
   "metadata": {},
   "outputs": [
    {
     "name": "stdout",
     "output_type": "stream",
     "text": [
      "Has top actor, 'oscars nominated' mean:  0.5405405405405406\n",
      "Has no top actor, 'oscars nominated' mean:  0.43657331136738053\n",
      "T-test on the 'oscars nominated' data:  0.4553574261161094\n"
     ]
    }
   ],
   "source": [
    "# Nominated For Oscars \n",
    "has_pop_actor_oscar_nominated = has_pop_actor['oscar_nominations']\n",
    "no_pop_actor_oscar_nominated = no_pop_actor['oscar_nominations']\n",
    "\n",
    "#Take a look at the means...\n",
    "print(\"Has top actor, 'oscars nominated' mean: \", has_pop_actor_oscar_nominated.mean())\n",
    "print(\"Has no top actor, 'oscars nominated' mean: \", no_pop_actor_oscar_nominated.mean())\n",
    "# Testing with a ttest...\n",
    "ttest_p_oscar_nominated = stats.ttest_ind(has_pop_actor_oscar_nominated, no_pop_actor_oscar_nominated).pvalue\n",
    "print(\"T-test on the 'oscars nominated' data: \", ttest_p_oscar_nominated)"
   ]
  },
  {
   "cell_type": "code",
   "execution_count": 16,
   "metadata": {},
   "outputs": [
    {
     "data": {
      "text/plain": [
       "<matplotlib.legend.Legend at 0x7febd31d9128>"
      ]
     },
     "execution_count": 16,
     "metadata": {},
     "output_type": "execute_result"
    },
    {
     "data": {
      "image/png": "[encoded data removed]",
      "text/plain": [
       "<Figure size 432x288 with 1 Axes>"
      ]
     },
     "metadata": {
      "needs_background": "light"
     },
     "output_type": "display_data"
    }
   ],
   "source": [
    "plt.hist([no_pop_actor['audience_average'], has_pop_actor['audience_average']], 10, alpha=0.5, density=True)\n",
    "plt.xlabel('Audience Rating')\n",
    "plt.ylabel('Number of Movies')\n",
    "plt.title('Audience Rating of Movies Featuring a Popular Actor/Actress')\n",
    "plt.legend(['Without a Popular Director','With A Popular Director'])"
   ]
  },
  {
   "cell_type": "code",
   "execution_count": 17,
   "metadata": {},
   "outputs": [
    {
     "data": {
      "text/plain": [
       "<matplotlib.legend.Legend at 0x7febd2f24c18>"
      ]
     },
     "execution_count": 17,
     "metadata": {},
     "output_type": "execute_result"
    },
    {
     "data": {
      "image/png": "[encoded data removed]",
      "text/plain": [
       "<Figure size 432x288 with 1 Axes>"
      ]
     },
     "metadata": {
      "needs_background": "light"
     },
     "output_type": "display_data"
    }
   ],
   "source": [
    "plt.hist([no_pop_actor['critic_average'], has_pop_actor['critic_average']], 10, alpha=0.5, density=True)\n",
    "plt.xlabel('Audience Rating')\n",
    "plt.ylabel('Number of Movies')\n",
    "plt.title('Critic Rating of Movies Featuring a Popular Actor/Actress')\n",
    "plt.legend(['Without a Popular Actor/Actress','With A Popular Actor/Actress'])"
   ]
  },
  {
   "cell_type": "code",
   "execution_count": null,
   "metadata": {},
   "outputs": [],
   "source": []
  },
  {
   "cell_type": "code",
   "execution_count": 18,
   "metadata": {},
   "outputs": [],
   "source": [
    "# QUESTION: Does popularity of directors of movie relate to movie's success?\n",
    "# Get required data for question, drop any fields that are missing: \n",
    "pop_data_dir = data[['imdb_id', 'director', 'omdb_awards', 'audience_average', 'critic_average', 'made_profit']]\n",
    "# Remove any values that don't exist from these columns, except awards (could be none!)\n",
    "pop_data_dir = pop_data_dir.dropna(subset=['imdb_id', 'director', 'audience_average', 'critic_average', 'made_profit'])\n",
    "# Set index\n",
    "pop_data_dir = pop_data_dir.set_index('imdb_id')"
   ]
  },
  {
   "cell_type": "code",
   "execution_count": 19,
   "metadata": {},
   "outputs": [],
   "source": [
    "pop_data_dir['has_popular_director'] = pop_data_dir['director'].apply(lambda x: is_popular_director(x))"
   ]
  },
  {
   "cell_type": "code",
   "execution_count": 20,
   "metadata": {},
   "outputs": [],
   "source": [
    "# Add columns for Oscar wins and Oscar nominations\n",
    "pop_data_dir['oscar_wins'] = pop_data_dir['omdb_awards'].apply(lambda x: won_oscar(x))\n",
    "pop_data_dir['oscar_nominations'] = pop_data_dir['omdb_awards'].apply(lambda x: nominated_for_oscar(x))"
   ]
  },
  {
   "cell_type": "code",
   "execution_count": null,
   "metadata": {},
   "outputs": [],
   "source": []
  },
  {
   "cell_type": "code",
   "execution_count": 21,
   "metadata": {},
   "outputs": [],
   "source": [
    "has_pop_director = pop_data_dir.loc[pop_data_dir['has_popular_director'] == True]\n",
    "no_pop_director = pop_data_dir.loc[pop_data_dir['has_popular_director'] == False]"
   ]
  },
  {
   "cell_type": "code",
   "execution_count": 22,
   "metadata": {},
   "outputs": [
    {
     "name": "stdout",
     "output_type": "stream",
     "text": [
      "Has top director, audience mean:  3.8378787878787874\n",
      "Has no top directoor, audience mean:  3.47847533632287\n",
      "T-test on the audience data:  4.118134973384683e-09\n"
     ]
    }
   ],
   "source": [
    "# Audience Ratings\n",
    "has_pop_director_audience = has_pop_director['audience_average']\n",
    "no_pop_director_audience = no_pop_director['audience_average']\n",
    "# Take a look at the means...\n",
    "print(\"Has top director, audience mean: \", has_pop_director_audience.mean())\n",
    "print(\"Has no top directoor, audience mean: \", no_pop_director_audience.mean())\n",
    "# Testing with a ttest...\n",
    "ttest_p_audience = stats.ttest_ind(has_pop_director_audience, no_pop_director_audience).pvalue\n",
    "print(\"T-test on the audience data: \", ttest_p_audience)"
   ]
  },
  {
   "cell_type": "code",
   "execution_count": 23,
   "metadata": {},
   "outputs": [
    {
     "name": "stdout",
     "output_type": "stream",
     "text": [
      "Has top director, critic mean:  7.757575757575758\n",
      "Has no top director, critic mean:  6.272197309417041\n",
      "T-test on the critic data:  9.293290445413253e-15\n"
     ]
    }
   ],
   "source": [
    "# Critic Ratings\n",
    "has_pop_director_critic = has_pop_director['critic_average']\n",
    "no_pop_director_critic = no_pop_director['critic_average']\n",
    "# Take a look at the means...\n",
    "print(\"Has top director, critic mean: \", has_pop_director_critic.mean())\n",
    "print(\"Has no top director, critic mean: \", no_pop_director_critic.mean())\n",
    "# Testing with a ttest...\n",
    "ttest_p_critic = stats.ttest_ind(has_pop_director_critic, no_pop_director_critic).pvalue\n",
    "print(\"T-test on the critic data: \", ttest_p_critic)"
   ]
  },
  {
   "cell_type": "code",
   "execution_count": 24,
   "metadata": {},
   "outputs": [
    {
     "name": "stdout",
     "output_type": "stream",
     "text": [
      "Percent of movies featuring most popular directors that made a profit: 0.9090909090909091\n",
      "Percent of movies not featuring any of the popular directors that made a profit: 0.8445440956651719\n"
     ]
    }
   ],
   "source": [
    "# Made Profit\n",
    "# Look at the percentage of movies that made a profit\n",
    "has_pop_director_made_profit = has_pop_director[has_pop_director.made_profit == True].shape[0]\n",
    "has_pop_director_total = has_pop_director.shape[0]\n",
    "no_pop_director_made_profit = no_pop_director[no_pop_director.made_profit == True].shape[0]\n",
    "no_pop_director_total = no_pop_director.shape[0]\n",
    "\n",
    "print(\"Percent of movies featuring most popular directors that made a profit:\", has_pop_director_made_profit/has_pop_director_total)\n",
    "print(\"Percent of movies not featuring any of the popular directors that made a profit:\", no_pop_director_made_profit/no_pop_director_total)"
   ]
  },
  {
   "cell_type": "code",
   "execution_count": 25,
   "metadata": {},
   "outputs": [
    {
     "name": "stdout",
     "output_type": "stream",
     "text": [
      "Has top director, 'oscars won' mean:  0.9545454545454546\n",
      "Has no top director, 'oscars won'  mean:  0.34678624813153963\n",
      "T-test on the 'oscars won' data:  5.056342923879245e-05\n"
     ]
    }
   ],
   "source": [
    "# Won Oscars \n",
    "has_pop_director_won_oscar = has_pop_director['oscar_wins']\n",
    "no_pop_director_won_oscar = no_pop_director['oscar_wins']\n",
    "\n",
    "#Take a look at the means...\n",
    "print(\"Has top director, 'oscars won' mean: \", has_pop_director_won_oscar.mean())\n",
    "print(\"Has no top director, 'oscars won'  mean: \", no_pop_director_won_oscar.mean())\n",
    "# Testing with a ttest...\n",
    "ttest_p_won_oscar = stats.ttest_ind(has_pop_director_won_oscar, no_pop_director_won_oscar).pvalue\n",
    "print(\"T-test on the 'oscars won' data: \", ttest_p_won_oscar)"
   ]
  },
  {
   "cell_type": "code",
   "execution_count": 26,
   "metadata": {},
   "outputs": [
    {
     "name": "stdout",
     "output_type": "stream",
     "text": [
      "Has top director, 'oscars nominated' mean:  0.9090909090909091\n",
      "Has no top director, 'oscars nominated' mean:  0.4125560538116592\n",
      "T-test on the 'oscars nominated' data:  0.0004982626916534771\n"
     ]
    }
   ],
   "source": [
    "# Nominated For Oscars \n",
    "has_pop_director_oscar_nominated = has_pop_director['oscar_nominations']\n",
    "no_pop_director_oscar_nominated = no_pop_director['oscar_nominations']\n",
    "\n",
    "#Take a look at the means...\n",
    "print(\"Has top director, 'oscars nominated' mean: \", has_pop_director_oscar_nominated.mean())\n",
    "print(\"Has no top director, 'oscars nominated' mean: \", no_pop_director_oscar_nominated.mean())\n",
    "# Testing with a ttest...\n",
    "ttest_p_oscar_nominated = stats.ttest_ind(has_pop_director_oscar_nominated, no_pop_director_oscar_nominated).pvalue\n",
    "print(\"T-test on the 'oscars nominated' data: \", ttest_p_oscar_nominated)"
   ]
  },
  {
   "cell_type": "code",
   "execution_count": 27,
   "metadata": {},
   "outputs": [
    {
     "data": {
      "text/plain": [
       "<matplotlib.legend.Legend at 0x7febd2d637b8>"
      ]
     },
     "execution_count": 27,
     "metadata": {},
     "output_type": "execute_result"
    },
    {
     "data": {
      "image/png": "[encoded data removed]",
      "text/plain": [
       "<Figure size 432x288 with 1 Axes>"
      ]
     },
     "metadata": {
      "needs_background": "light"
     },
     "output_type": "display_data"
    }
   ],
   "source": [
    "plt.hist([no_pop_director_won_oscar, has_pop_director_won_oscar], 10, alpha=0.5, density=True)\n",
    "plt.xlabel('Number of Movies')\n",
    "plt.title('Oscar Nominated Movies Directed by A Popular Director')\n",
    "plt.legend(['Without a Popular Director','With A Popular Director'])"
   ]
  },
  {
   "cell_type": "code",
   "execution_count": 28,
   "metadata": {},
   "outputs": [
    {
     "data": {
      "text/plain": [
       "<matplotlib.legend.Legend at 0x7febd2c5aa20>"
      ]
     },
     "execution_count": 28,
     "metadata": {},
     "output_type": "execute_result"
    },
    {
     "data": {
      "image/png": "[encoded data removed]",
      "text/plain": [
       "<Figure size 432x288 with 1 Axes>"
      ]
     },
     "metadata": {
      "needs_background": "light"
     },
     "output_type": "display_data"
    }
   ],
   "source": [
    "plt.hist([no_pop_director_won_oscar, has_pop_director_won_oscar], 10, alpha=0.5, density=True)\n",
    "plt.xlabel('Number of Movies')\n",
    "plt.title('Oscar Nominated Movies Directed by A Popular Director')\n",
    "plt.legend(['Without a Popular Director','With A Popular Director'])"
   ]
  },
  {
   "cell_type": "code",
   "execution_count": null,
   "metadata": {},
   "outputs": [],
   "source": []
  }
 ],
 "metadata": {
  "kernelspec": {
   "display_name": "Python 3",
   "language": "python",
   "name": "python3"
  },
  "language_info": {
   "codemirror_mode": {
    "name": "ipython",
    "version": 3
   },
   "file_extension": ".py",
   "mimetype": "text/x-python",
   "name": "python",
   "nbconvert_exporter": "python",
   "pygments_lexer": "ipython3",
   "version": "3.6.8"
  }
 },
 "nbformat": 4,
 "nbformat_minor": 2
}
